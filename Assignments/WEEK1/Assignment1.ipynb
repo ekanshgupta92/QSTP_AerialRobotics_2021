{
  "nbformat": 4,
  "nbformat_minor": 0,
  "metadata": {
    "colab": {
      "name": "Assignment1.ipynb",
      "provenance": [],
      "collapsed_sections": []
    },
    "kernelspec": {
      "name": "python3",
      "display_name": "Python 3"
    },
    "language_info": {
      "name": "python"
    }
  },
  "cells": [
    {
      "cell_type": "code",
      "metadata": {
        "id": "lwuf-ZK5Ch6F"
      },
      "source": [
        "# useful libraries\n",
        "import numpy as np\n",
        "import matplotlib.pyplot as plt\n",
        "import math"
      ],
      "execution_count": 1,
      "outputs": []
    },
    {
      "cell_type": "code",
      "metadata": {
        "id": "tPaLChPOJwts"
      },
      "source": [
        "class Frame():\n",
        "  def _init_(self, x, y):\n",
        "\n",
        "    self.x = x\n",
        "    self.y = y"
      ],
      "execution_count": 2,
      "outputs": []
    },
    {
      "cell_type": "code",
      "metadata": {
        "id": "pcLTQBC4C7ZP"
      },
      "source": [
        "def transformPoint(og_coord, new_origin, Theta):\n",
        "  angle = np.radians(Theta)\n",
        "  c = np.cos(angle)\n",
        "  s = np.sin(angle)\n",
        "  R = np.array(((c, -s), (s, c)))\n",
        "  new_coord = np.array(og_coord)  - np.array(new_origin) # translating the point\n",
        "  [x_dash, y_dash] = np.dot(new_coord, R)\n",
        "  return x_dash, y_dash"
      ],
      "execution_count": 3,
      "outputs": []
    },
    {
      "cell_type": "code",
      "metadata": {
        "id": "_5mfyXSwDGnq"
      },
      "source": [
        "def plotAxis(og_coord, new_origin, Theta):\n",
        "\n",
        "    angle = np.radians(Theta)\n",
        "    x_dash, y_dash = transformPoint(og_coord, new_origin, Theta)\n",
        "    print(f\"Coordinates wrt new axis : {x_dash}, {y_dash}\")\n",
        "    plt.scatter(og_coord[0], og_coord[1])\n",
        "\n",
        "    #original frame\n",
        "    FrameA = Frame()\n",
        "\n",
        "    x = np.linspace(0, 5, 11)\n",
        "\n",
        "    FrameA.x = x\n",
        "    FrameA.y = x\n",
        "\n",
        "    plt.plot(FrameA.x , np.zeros(11) , 'r-' )\n",
        "    plt.plot(np.zeros(11), FrameA.y, 'r-')\n",
        "\n",
        "    if Theta == 0. :\n",
        "      plt.plot(FrameA.x + new_origin[0] , np.zeros(11) + new_origin[1], 'b-' )\n",
        "      plt.plot(np.zeros(11) + new_origin[0], FrameA.y + new_origin[1], 'b-')\n",
        "      return\n",
        "\n",
        "    #rotated frame\n",
        "    FrameB = Frame()\n",
        "\n",
        "    FrameB.x = np.tan(angle) * x \n",
        "    FrameB.y = (1/np.tan(angle)) * (x)\n",
        "\n",
        "    plt.plot(x + new_origin[0], FrameB.x + new_origin[1], 'b-')\n",
        "    plt.plot(-x + new_origin[0], FrameB.y + new_origin[1], 'b-')\n",
        "    plt.tight_layout()"
      ],
      "execution_count": 4,
      "outputs": []
    },
    {
      "cell_type": "code",
      "metadata": {
        "colab": {
          "base_uri": "https://localhost:8080/",
          "height": 365
        },
        "id": "UAcBzb8OKQx0",
        "outputId": "949577fe-ed02-43fd-84a2-ccdfa11272c4"
      },
      "source": [
        "[x, y] = [int(x) for x in input(\"Enter the coordinates of point as x,y :\").split(',')]\n",
        "[X, Y] = [int(x) for x in input(\"Enter the shifted origin coordinate as X,Y :\").split(',')]\n",
        "Theta = int(input(\"Enter rotation angle in degrees:\"))\n",
        "\n",
        "\n",
        "plotAxis([x, y], [X, Y], Theta)"
      ],
      "execution_count": 7,
      "outputs": [
        {
          "output_type": "stream",
          "text": [
            "Enter the coordinates of point as x,y :2,3\n",
            "Enter the shifted origin coordinate as X,Y :0,1\n",
            "Enter rotation angle in degrees:30\n",
            "Coordinates wrt new axis : 2.732050807568877, 0.7320508075688775\n"
          ],
          "name": "stdout"
        },
        {
          "output_type": "display_data",
          "data": {
            "image/png": "[encoded data removed]",
            "text/plain": [
              "<Figure size 432x288 with 1 Axes>"
            ]
          },
          "metadata": {
            "tags": [],
            "needs_background": "light"
          }
        }
      ]
    }
  ]
}